{
 "cells": [
  {
   "cell_type": "code",
   "execution_count": 1,
   "id": "d13894f5-a75d-41d2-bc85-4747b02910b7",
   "metadata": {
    "tags": []
   },
   "outputs": [],
   "source": [
    "import os\n",
    "import pathlib\n",
    "import subprocess\n",
    "from matplotlib import pyplot as plt\n",
    "from tqdm.contrib import itertools\n",
    "import numpy as np\n",
    "from stl import mesh\n",
    "from mpl_toolkits import mplot3d"
   ]
  },
  {
   "cell_type": "code",
   "execution_count": 4,
   "id": "777ae656-51a5-41a7-b832-45fa947c68b7",
   "metadata": {
    "tags": []
   },
   "outputs": [
    {
     "data": {
      "application/vnd.jupyter.widget-view+json": {
       "model_id": "40adee7f43034157b7cd63c55ceab25b",
       "version_major": 2,
       "version_minor": 0
      },
      "text/plain": [
       "  0%|          | 0/72000 [00:00<?, ?it/s]"
      ]
     },
     "metadata": {},
     "output_type": "display_data"
    },
    {
     "data": {
      "image/png": "[encoded data removed]",
      "text/plain": [
       "<Figure size 640x480 with 1 Axes>"
      ]
     },
     "metadata": {},
     "output_type": "display_data"
    }
   ],
   "source": [
    "# Texture dimensions\n",
    "HEIGHT_MM = 80\n",
    "WIDTH_MM = 100\n",
    "DEPTH_MM = 3\n",
    "\n",
    "N_STIM_HEIGHT = 80 * 3\n",
    "N_STIM_WIDTH = 100 * 3\n",
    "\n",
    "PPMM = 30\n",
    "DIAMETER_UM = 100\n",
    "DIAMETER_P = DIAMETER_UM / 1000 * PPMM\n",
    "STD_UM = 1  #STD diameter\n",
    "STD_P = STD_UM / 1000 * PPMM\n",
    "\n",
    "## Pick diameter of the dot from a gaussian distribution\n",
    "diameters = np.random.normal(DIAMETER_P, STD_P, (N_STIM_HEIGHT, N_STIM_WIDTH))\n",
    "# diameters = DIAMETER_P * np.ones((N_STIM_HEIGHT, N_STIM_WIDTH))\n",
    "\n",
    "max_diam = int(np.max(diameters))\n",
    "\n",
    "spacing_x = np.linspace(0, HEIGHT_MM * PPMM, N_STIM_HEIGHT + 2, dtype=np.uint64)[1:-1]\n",
    "spacing_y = np.linspace(0, WIDTH_MM * PPMM, N_STIM_WIDTH + 2, dtype=np.uint64)[1:-1]\n",
    "\n",
    "data = int(0.8 * DEPTH_MM * PPMM) * np.ones(\n",
    "    (HEIGHT_MM * PPMM, WIDTH_MM * PPMM), dtype=np.uint64\n",
    ")\n",
    "\n",
    "for i, j in itertools.product(range(diameters.shape[0]), range(diameters.shape[1])):\n",
    "    x, y = (spacing_x[i], spacing_y[j])\n",
    "    x, y = int(x), int(y)\n",
    "    data[x, y] = int(DEPTH_MM * PPMM)\n",
    "\n",
    "    angles = np.linspace(0, np.pi / 2, 100)\n",
    "    for k in angles:\n",
    "        # for l in np.linspace(0, diameters[i, j], max_diam):\n",
    "        #     xc, yc = (x + np.sin(k) * l, y + np.cos(k) * l)\n",
    "        #     data[int(xc), int(yc)] = 255\n",
    "        xc, yc = (np.sin(k) * diameters[i, j], np.cos(k) * diameters[i, j])\n",
    "        xc, yc = int(xc), int(yc)\n",
    "        data[x : x + xc, y : y + yc] = int(DEPTH_MM * PPMM)\n",
    "        data[x - xc : x, y : y + yc] = int(DEPTH_MM * PPMM)\n",
    "        data[x - xc : x, y - yc : y] = int(DEPTH_MM * PPMM)\n",
    "        data[x : x + xc, y - yc : y] = int(DEPTH_MM * PPMM)\n",
    "\n",
    "\n",
    "plt.imshow(data, interpolation=\"nearest\")\n",
    "plt.show()\n"
   ]
  },
  {
   "cell_type": "code",
   "execution_count": 5,
   "id": "0a30d57d-4d0c-414b-b251-5e2099577725",
   "metadata": {
    "tags": []
   },
   "outputs": [
    {
     "data": {
      "application/vnd.jupyter.widget-view+json": {
       "model_id": "82cd2dad6b6d4570af0703eed3ebde28",
       "version_major": 2,
       "version_minor": 0
      },
      "text/plain": [
       "  0%|          | 0/7194601 [00:00<?, ?it/s]"
      ]
     },
     "metadata": {},
     "output_type": "display_data"
    },
    {
     "name": "stdout",
     "output_type": "stream",
     "text": [
      "C:\\Users\\fradin\\Downloads\\dotted_texture_bonnes\n"
     ]
    }
   ],
   "source": [
    "\n",
    "height_div_width = DEPTH_MM / WIDTH_MM\n",
    "\n",
    "im_array = data  # .transpose((1, 0, 2))\n",
    "im_array = np.rot90(im_array, -1, (0, 1))\n",
    "mesh_size = [im_array.shape[0], im_array.shape[1]]\n",
    "mesh_max = np.max(im_array)\n",
    "if len(im_array.shape) == 3:\n",
    "    scaled_mesh = mesh_size[0] * float(height_div_width) * im_array[:, :, 0] / mesh_max\n",
    "else:\n",
    "    scaled_mesh = mesh_size[0] * float(height_div_width) * im_array / mesh_max\n",
    "\n",
    "mesh_shape = mesh.Mesh(\n",
    "    np.zeros((mesh_size[0] - 1) * (mesh_size[1] - 1) * 2, dtype=mesh.Mesh.dtype)\n",
    ")\n",
    "\n",
    "\n",
    "for i, j in itertools.product(range(0, mesh_size[0] - 1), range(0, mesh_size[1] - 1)):\n",
    "    mesh_num = i * (mesh_size[1] - 1) + j\n",
    "    mesh_shape.vectors[2 * mesh_num][2] = [i, j, scaled_mesh[i, j]]\n",
    "    mesh_shape.vectors[2 * mesh_num][1] = [i, j + 1, scaled_mesh[i, j + 1]]\n",
    "    mesh_shape.vectors[2 * mesh_num][0] = [i + 1, j, scaled_mesh[i + 1, j]]\n",
    "    mesh_shape.vectors[2 * mesh_num + 1][0] = [i + 1, j + 1, scaled_mesh[i + 1, j + 1]]\n",
    "    mesh_shape.vectors[2 * mesh_num + 1][1] = [i, j + 1, scaled_mesh[i, j + 1]]\n",
    "    mesh_shape.vectors[2 * mesh_num + 1][2] = [i + 1, j, scaled_mesh[i + 1, j]]\n",
    "\n",
    "# build base\n",
    "vertices = np.array(\n",
    "    [\n",
    "        [0, 0, 0],\n",
    "        [mesh_size[0] - 1, 0, 0],\n",
    "        [mesh_size[0] - 1, mesh_size[1] - 1, 0],\n",
    "        [0, mesh_size[1] - 1, 0],\n",
    "        [0, 0, scaled_mesh[0, 0]],\n",
    "        [mesh_size[0] - 1, 0, scaled_mesh[0, 0]],\n",
    "        [mesh_size[0] - 1, mesh_size[1] - 1, scaled_mesh[0, 0]],\n",
    "        [0, mesh_size[1] - 1, scaled_mesh[0, 0]],\n",
    "    ]\n",
    ")\n",
    "faces = np.array(\n",
    "    [\n",
    "        [0, 3, 1],\n",
    "        [1, 3, 2],\n",
    "        [0, 4, 7],\n",
    "        [0, 7, 3],\n",
    "        [4, 5, 6],\n",
    "        [4, 6, 7],\n",
    "        [5, 1, 2],\n",
    "        [5, 2, 6],\n",
    "        [2, 3, 6],\n",
    "        [3, 7, 6],\n",
    "        [0, 1, 5],\n",
    "        [0, 5, 4],\n",
    "    ]\n",
    ")\n",
    "\n",
    "for i, f in enumerate(faces):\n",
    "    for j in range(3):\n",
    "        mesh_shape.vectors[2 * (mesh_size[0] + mesh_size[1]) + i][j] = vertices[f[j], :]\n",
    "\n",
    "dirname = pathlib.Path(\"__file__\").resolve().parent\n",
    "print(dirname)\n",
    "\n",
    "# save stl file\n",
    "mesh_shape.save(dirname / \"test.stl\")\n",
    "\n",
    "##subprocess.run([\"f3d\", \"test.stl\"], stdin=subprocess.PIPE, stdout=subprocess.PIPE)\n",
    "#print(\"done\")"
   ]
  }
 ],
 "metadata": {
  "kernelspec": {
   "display_name": "Python (GPU)",
   "language": "python",
   "name": "gpu_env"
  },
  "language_info": {
   "codemirror_mode": {
    "name": "ipython",
    "version": 3
   },
   "file_extension": ".py",
   "mimetype": "text/x-python",
   "name": "python",
   "nbconvert_exporter": "python",
   "pygments_lexer": "ipython3",
   "version": "3.11.5"
  }
 },
 "nbformat": 4,
 "nbformat_minor": 5
}
